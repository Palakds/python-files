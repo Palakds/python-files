{
 "cells": [
  {
   "cell_type": "code",
   "execution_count": 20,
   "metadata": {},
   "outputs": [],
   "source": [
    "f = open(\"test.txt\",'a')"
   ]
  },
  {
   "cell_type": "code",
   "execution_count": 21,
   "metadata": {},
   "outputs": [
    {
     "data": {
      "text/plain": [
       "'c:\\\\Users\\\\Gupta\\\\OneDrive\\\\Desktop\\\\python files\\\\week 5'"
      ]
     },
     "execution_count": 21,
     "metadata": {},
     "output_type": "execute_result"
    }
   ],
   "source": [
    "pwd"
   ]
  },
  {
   "cell_type": "code",
   "execution_count": 22,
   "metadata": {},
   "outputs": [
    {
     "name": "stdout",
     "output_type": "stream",
     "text": [
      " Volume in drive C is Windows\n",
      " Volume Serial Number is 3877-199F\n",
      "\n",
      " Directory of c:\\Users\\Gupta\\OneDrive\\Desktop\\python files\\week 5\n",
      "\n",
      "08-01-2024  08:34 PM    <DIR>          .\n",
      "07-01-2024  01:45 PM    <DIR>          ..\n",
      "08-01-2024  08:41 PM               510 test.txt\n",
      "08-01-2024  08:28 PM               234 Working with files.ipynb\n",
      "               2 File(s)            744 bytes\n",
      "               2 Dir(s)  84,899,946,496 bytes free\n"
     ]
    }
   ],
   "source": [
    "ls"
   ]
  },
  {
   "cell_type": "code",
   "execution_count": 23,
   "metadata": {},
   "outputs": [
    {
     "data": {
      "text/plain": [
       "255"
      ]
     },
     "execution_count": 23,
     "metadata": {},
     "output_type": "execute_result"
    }
   ],
   "source": [
    "f.write(\"Master the intricacies of Data Science and become an innovation catalyst. This program offers a deep dive into statistical techniques, machine learning algorithms, and big data tools, positioning you at the forefront of driving technological advancements.\")"
   ]
  },
  {
   "cell_type": "code",
   "execution_count": 24,
   "metadata": {},
   "outputs": [],
   "source": [
    "f.close()"
   ]
  },
  {
   "cell_type": "code",
   "execution_count": 27,
   "metadata": {},
   "outputs": [],
   "source": [
    "data = open(\"test.txt\",\"r\")"
   ]
  },
  {
   "cell_type": "code",
   "execution_count": 28,
   "metadata": {},
   "outputs": [
    {
     "data": {
      "text/plain": [
       "'Master the intricacies of Data Science and become an innovation catalyst. This program offers a deep dive into statistical techniques, machine learning algorithms, and big data tools, positioning you at the forefront of driving technological advancements.Master the intricacies of Data Science and become an innovation catalyst. This program offers a deep dive into statistical techniques, machine learning algorithms, and big data tools, positioning you at the forefront of driving technological advancements.Master the intricacies of Data Science and become an innovation catalyst. This program offers a deep dive into statistical techniques, machine learning algorithms, and big data tools, positioning you at the forefront of driving technological advancements.'"
      ]
     },
     "execution_count": 28,
     "metadata": {},
     "output_type": "execute_result"
    }
   ],
   "source": [
    "data.read()"
   ]
  },
  {
   "cell_type": "code",
   "execution_count": 29,
   "metadata": {},
   "outputs": [
    {
     "data": {
      "text/plain": [
       "''"
      ]
     },
     "execution_count": 29,
     "metadata": {},
     "output_type": "execute_result"
    }
   ],
   "source": [
    "data.read()"
   ]
  },
  {
   "cell_type": "code",
   "execution_count": 30,
   "metadata": {},
   "outputs": [
    {
     "data": {
      "text/plain": [
       "0"
      ]
     },
     "execution_count": 30,
     "metadata": {},
     "output_type": "execute_result"
    }
   ],
   "source": [
    "data.seek(0)"
   ]
  },
  {
   "cell_type": "code",
   "execution_count": 31,
   "metadata": {},
   "outputs": [
    {
     "data": {
      "text/plain": [
       "'Master the intricacies of Data Science and become an innovation catalyst. This program offers a deep dive into statistical techniques, machine learning algorithms, and big data tools, positioning you at the forefront of driving technological advancements.Master the intricacies of Data Science and become an innovation catalyst. This program offers a deep dive into statistical techniques, machine learning algorithms, and big data tools, positioning you at the forefront of driving technological advancements.Master the intricacies of Data Science and become an innovation catalyst. This program offers a deep dive into statistical techniques, machine learning algorithms, and big data tools, positioning you at the forefront of driving technological advancements.'"
      ]
     },
     "execution_count": 31,
     "metadata": {},
     "output_type": "execute_result"
    }
   ],
   "source": [
    "data.read()"
   ]
  },
  {
   "cell_type": "code",
   "execution_count": 32,
   "metadata": {},
   "outputs": [
    {
     "data": {
      "text/plain": [
       "''"
      ]
     },
     "execution_count": 32,
     "metadata": {},
     "output_type": "execute_result"
    }
   ],
   "source": [
    "data.read()"
   ]
  },
  {
   "cell_type": "code",
   "execution_count": 33,
   "metadata": {},
   "outputs": [
    {
     "data": {
      "text/plain": [
       "20"
      ]
     },
     "execution_count": 33,
     "metadata": {},
     "output_type": "execute_result"
    }
   ],
   "source": [
    "data.seek(20)"
   ]
  },
  {
   "cell_type": "code",
   "execution_count": 34,
   "metadata": {},
   "outputs": [
    {
     "data": {
      "text/plain": [
       "'es of Data Science and become an innovation catalyst. This program offers a deep dive into statistical techniques, machine learning algorithms, and big data tools, positioning you at the forefront of driving technological advancements.Master the intricacies of Data Science and become an innovation catalyst. This program offers a deep dive into statistical techniques, machine learning algorithms, and big data tools, positioning you at the forefront of driving technological advancements.Master the intricacies of Data Science and become an innovation catalyst. This program offers a deep dive into statistical techniques, machine learning algorithms, and big data tools, positioning you at the forefront of driving technological advancements.'"
      ]
     },
     "execution_count": 34,
     "metadata": {},
     "output_type": "execute_result"
    }
   ],
   "source": [
    "data.read()"
   ]
  },
  {
   "cell_type": "code",
   "execution_count": 35,
   "metadata": {},
   "outputs": [],
   "source": [
    "data1=open(\"test.txt\",'r')"
   ]
  },
  {
   "cell_type": "code",
   "execution_count": 36,
   "metadata": {},
   "outputs": [
    {
     "name": "stdout",
     "output_type": "stream",
     "text": [
      "Master the intricacies of Data Science and become an innovation catalyst. This program offers a deep dive into statistical techniques, machine learning algorithms, and big data tools, positioning you at the forefront of driving technological advancements.Master the intricacies of Data Science and become an innovation catalyst. This program offers a deep dive into statistical techniques, machine learning algorithms, and big data tools, positioning you at the forefront of driving technological advancements.Master the intricacies of Data Science and become an innovation catalyst. This program offers a deep dive into statistical techniques, machine learning algorithms, and big data tools, positioning you at the forefront of driving technological advancements.\n"
     ]
    }
   ],
   "source": [
    "for i in data1:\n",
    "    print(i)"
   ]
  },
  {
   "cell_type": "code",
   "execution_count": 37,
   "metadata": {},
   "outputs": [],
   "source": [
    "import os"
   ]
  },
  {
   "cell_type": "code",
   "execution_count": 38,
   "metadata": {},
   "outputs": [
    {
     "data": {
      "text/plain": [
       "765"
      ]
     },
     "execution_count": 38,
     "metadata": {},
     "output_type": "execute_result"
    }
   ],
   "source": [
    "os.path.getsize(\"test.txt\")"
   ]
  },
  {
   "cell_type": "code",
   "execution_count": 39,
   "metadata": {},
   "outputs": [],
   "source": [
    "import shutil"
   ]
  },
  {
   "cell_type": "code",
   "execution_count": 40,
   "metadata": {},
   "outputs": [
    {
     "data": {
      "text/plain": [
       "'new_test.txt'"
      ]
     },
     "execution_count": 40,
     "metadata": {},
     "output_type": "execute_result"
    }
   ],
   "source": [
    "shutil.copy(\"test.txt\",\"new_test.txt\")"
   ]
  },
  {
   "cell_type": "code",
   "execution_count": 43,
   "metadata": {},
   "outputs": [
    {
     "ename": "PermissionError",
     "evalue": "[WinError 32] The process cannot access the file because it is being used by another process: 'test.txt'",
     "output_type": "error",
     "traceback": [
      "\u001b[1;31m---------------------------------------------------------------------------\u001b[0m",
      "\u001b[1;31mPermissionError\u001b[0m                           Traceback (most recent call last)",
      "Cell \u001b[1;32mIn[43], line 1\u001b[0m\n\u001b[1;32m----> 1\u001b[0m \u001b[43mos\u001b[49m\u001b[38;5;241;43m.\u001b[39;49m\u001b[43mremove\u001b[49m\u001b[43m(\u001b[49m\u001b[38;5;124;43m\"\u001b[39;49m\u001b[38;5;124;43mtest.txt\u001b[39;49m\u001b[38;5;124;43m\"\u001b[39;49m\u001b[43m)\u001b[49m\n",
      "\u001b[1;31mPermissionError\u001b[0m: [WinError 32] The process cannot access the file because it is being used by another process: 'test.txt'"
     ]
    }
   ],
   "source": [
    "os.remove(\"test.txt\")"
   ]
  },
  {
   "cell_type": "code",
   "execution_count": 44,
   "metadata": {},
   "outputs": [
    {
     "name": "stdout",
     "output_type": "stream",
     "text": [
      "Master the intricacies of Data Science and become an innovation catalyst. This program offers a deep dive into statistical techniques, machine learning algorithms, and big data tools, positioning you at the forefront of driving technological advancements.Master the intricacies of Data Science and become an innovation catalyst. This program offers a deep dive into statistical techniques, machine learning algorithms, and big data tools, positioning you at the forefront of driving technological advancements.Master the intricacies of Data Science and become an innovation catalyst. This program offers a deep dive into statistical techniques, machine learning algorithms, and big data tools, positioning you at the forefront of driving technological advancements.\n"
     ]
    }
   ],
   "source": [
    "with open(\"new_test.txt\",\"r\") as f:\n",
    "    print(f.read())"
   ]
  },
  {
   "cell_type": "code",
   "execution_count": 46,
   "metadata": {},
   "outputs": [],
   "source": [
    "os.rename(\"new_test.txt\",\"test1.txt\")"
   ]
  },
  {
   "cell_type": "code",
   "execution_count": null,
   "metadata": {},
   "outputs": [],
   "source": []
  }
 ],
 "metadata": {
  "language_info": {
   "name": "python"
  }
 },
 "nbformat": 4,
 "nbformat_minor": 2
}
