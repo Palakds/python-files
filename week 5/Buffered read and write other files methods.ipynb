{
 "cells": [
  {
   "cell_type": "code",
   "execution_count": 2,
   "metadata": {},
   "outputs": [],
   "source": [
    "import io   #input output"
   ]
  },
  {
   "cell_type": "code",
   "execution_count": 5,
   "metadata": {},
   "outputs": [],
   "source": [
    "with open(\"test.txt\",\"wb\") as f:\n",
    "    file=io.BufferedWriter(f)\n",
    "    file.write(b\"this is my buffer write\")\n",
    "    file.write(b\"this is my second line that i am trying to write Master the intricacies of Data Science and become an innovation catalyst. This program offers a deep dive into statistical techniques, machine learning algorithms, and big data tools, positioning you at the forefront of driving technological advancements.\")\n",
    "    file.flush()"
   ]
  },
  {
   "cell_type": "code",
   "execution_count": 8,
   "metadata": {},
   "outputs": [
    {
     "name": "stdout",
     "output_type": "stream",
     "text": [
      "b'this is my buffer writethis is my second line that i am trying to write Master the intricacies of Da'\n"
     ]
    }
   ],
   "source": [
    "with open(\"test.txt\",\"rb\") as f:\n",
    "    file=io.BufferedReader(f)\n",
    "    data=file.read(100)\n",
    "    print(data)"
   ]
  },
  {
   "cell_type": "code",
   "execution_count": null,
   "metadata": {},
   "outputs": [],
   "source": []
  }
 ],
 "metadata": {
  "kernelspec": {
   "display_name": "Python 3",
   "language": "python",
   "name": "python3"
  },
  "language_info": {
   "codemirror_mode": {
    "name": "ipython",
    "version": 3
   },
   "file_extension": ".py",
   "mimetype": "text/x-python",
   "name": "python",
   "nbconvert_exporter": "python",
   "pygments_lexer": "ipython3",
   "version": "3.9.13"
  }
 },
 "nbformat": 4,
 "nbformat_minor": 2
}
