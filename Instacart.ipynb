{
  "cells": [
    {
      "cell_type": "markdown",
      "metadata": {
        "id": "view-in-github",
        "colab_type": "text"
      },
      "source": [
        "<a href=\"https://colab.research.google.com/github/Palakds/python-files/blob/main/Instacart.ipynb\" target=\"_parent\"><img src=\"https://colab.research.google.com/assets/colab-badge.svg\" alt=\"Open In Colab\"/></a>"
      ]
    },
    {
      "cell_type": "code",
      "execution_count": 3,
      "metadata": {
        "id": "K2oRDSZtCqq6"
      },
      "outputs": [],
      "source": [
        "import pandas as pd\n",
        "\n",
        "# Load datasets\n",
        "orders = pd.read_csv('orders.csv')\n",
        "order_products_prior = pd.read_csv('order_products__prior.csv')\n",
        "order_products_train = pd.read_csv('order_products__train.csv')\n",
        "products = pd.read_csv('products.csv')\n",
        "aisles = pd.read_csv('aisles.csv')\n",
        "departments = pd.read_csv('departments.csv')"
      ]
    },
    {
      "cell_type": "code",
      "execution_count": 4,
      "metadata": {
        "id": "NL0IQfdtD9PN"
      },
      "outputs": [],
      "source": [
        "from pyspark.sql import SparkSession\n",
        "\n",
        "# Initialize Spark Session\n",
        "spark = SparkSession.builder.appName(\"InstacartEDA\").getOrCreate()\n"
      ]
    },
    {
      "cell_type": "code",
      "execution_count": 5,
      "metadata": {
        "id": "KSPpGaBUD9Sk"
      },
      "outputs": [],
      "source": [
        "# Load CSV files into PySpark DataFrames\n",
        "orders_df = spark.read.csv(\"orders.csv\", header=True, inferSchema=True)\n",
        "order_products_df = spark.read.csv(\"order_products__prior.csv\", header=True, inferSchema=True)\n",
        "products_df = spark.read.csv(\"products.csv\", header=True, inferSchema=True)\n",
        "aisles_df = spark.read.csv(\"aisles.csv\", header=True, inferSchema=True)\n",
        "departments_df = spark.read.csv(\"departments.csv\", header=True, inferSchema=True)\n"
      ]
    },
    {
      "cell_type": "code",
      "execution_count": 6,
      "metadata": {
        "colab": {
          "base_uri": "https://localhost:8080/"
        },
        "id": "ttnCx-ugD9Ve",
        "outputId": "2d72ba87-40be-4eb8-d576-3b2a1ac70b9c"
      },
      "outputs": [
        {
          "output_type": "stream",
          "name": "stdout",
          "text": [
            "root\n",
            " |-- order_id: integer (nullable = true)\n",
            " |-- user_id: integer (nullable = true)\n",
            " |-- eval_set: string (nullable = true)\n",
            " |-- order_number: integer (nullable = true)\n",
            " |-- order_dow: integer (nullable = true)\n",
            " |-- order_hour_of_day: integer (nullable = true)\n",
            " |-- days_since_prior_order: double (nullable = true)\n",
            "\n",
            "root\n",
            " |-- order_id: integer (nullable = true)\n",
            " |-- product_id: integer (nullable = true)\n",
            " |-- add_to_cart_order: integer (nullable = true)\n",
            " |-- reordered: integer (nullable = true)\n",
            "\n",
            "root\n",
            " |-- product_id: integer (nullable = true)\n",
            " |-- product_name: string (nullable = true)\n",
            " |-- aisle_id: string (nullable = true)\n",
            " |-- department_id: string (nullable = true)\n",
            "\n",
            "root\n",
            " |-- aisle_id: integer (nullable = true)\n",
            " |-- aisle: string (nullable = true)\n",
            "\n",
            "root\n",
            " |-- department_id: integer (nullable = true)\n",
            " |-- department: string (nullable = true)\n",
            "\n"
          ]
        }
      ],
      "source": [
        "orders_df.printSchema()\n",
        "order_products_df.printSchema()\n",
        "products_df.printSchema()\n",
        "aisles_df.printSchema()\n",
        "departments_df.printSchema()\n"
      ]
    },
    {
      "cell_type": "code",
      "execution_count": 7,
      "metadata": {
        "colab": {
          "base_uri": "https://localhost:8080/"
        },
        "id": "aHA2JOFbLPhI",
        "outputId": "d86ad7e0-3008-439e-8e1c-4cf2c78ceb15"
      },
      "outputs": [
        {
          "output_type": "stream",
          "name": "stdout",
          "text": [
            "+--------+-------+--------+------------+---------+-----------------+----------------------+\n",
            "|order_id|user_id|eval_set|order_number|order_dow|order_hour_of_day|days_since_prior_order|\n",
            "+--------+-------+--------+------------+---------+-----------------+----------------------+\n",
            "| 2539329|      1|   prior|           1|        2|                8|                  NULL|\n",
            "| 2398795|      1|   prior|           2|        3|                7|                  15.0|\n",
            "|  473747|      1|   prior|           3|        3|               12|                  21.0|\n",
            "| 2254736|      1|   prior|           4|        4|                7|                  29.0|\n",
            "|  431534|      1|   prior|           5|        4|               15|                  28.0|\n",
            "+--------+-------+--------+------------+---------+-----------------+----------------------+\n",
            "only showing top 5 rows\n",
            "\n",
            "+--------+----------+-----------------+---------+\n",
            "|order_id|product_id|add_to_cart_order|reordered|\n",
            "+--------+----------+-----------------+---------+\n",
            "|       2|     33120|                1|        1|\n",
            "|       2|     28985|                2|        1|\n",
            "|       2|      9327|                3|        0|\n",
            "|       2|     45918|                4|        1|\n",
            "|       2|     30035|                5|        0|\n",
            "+--------+----------+-----------------+---------+\n",
            "only showing top 5 rows\n",
            "\n",
            "+----------+--------------------+--------+-------------+\n",
            "|product_id|        product_name|aisle_id|department_id|\n",
            "+----------+--------------------+--------+-------------+\n",
            "|         1|Chocolate Sandwic...|      61|           19|\n",
            "|         2|    All-Seasons Salt|     104|           13|\n",
            "|         3|Robust Golden Uns...|      94|            7|\n",
            "|         4|Smart Ones Classi...|      38|            1|\n",
            "|         5|Green Chile Anyti...|       5|           13|\n",
            "+----------+--------------------+--------+-------------+\n",
            "only showing top 5 rows\n",
            "\n",
            "+--------+--------------------+\n",
            "|aisle_id|               aisle|\n",
            "+--------+--------------------+\n",
            "|       1|prepared soups sa...|\n",
            "|       2|   specialty cheeses|\n",
            "|       3| energy granola bars|\n",
            "|       4|       instant foods|\n",
            "|       5|marinades meat pr...|\n",
            "+--------+--------------------+\n",
            "only showing top 5 rows\n",
            "\n",
            "+-------------+----------+\n",
            "|department_id|department|\n",
            "+-------------+----------+\n",
            "|            1|    frozen|\n",
            "|            2|     other|\n",
            "|            3|    bakery|\n",
            "|            4|   produce|\n",
            "|            5|   alcohol|\n",
            "+-------------+----------+\n",
            "only showing top 5 rows\n",
            "\n"
          ]
        }
      ],
      "source": [
        "# Show first 5 rows\n",
        "orders_df.show(5)\n",
        "order_products_df.show(5)\n",
        "products_df.show(5)\n",
        "aisles_df.show(5)\n",
        "departments_df.show(5)\n"
      ]
    },
    {
      "cell_type": "code",
      "execution_count": 8,
      "metadata": {
        "colab": {
          "base_uri": "https://localhost:8080/"
        },
        "id": "YO9FhgDrLPja",
        "outputId": "3f27cd65-085c-4fe3-8157-6007d1e843f4"
      },
      "outputs": [
        {
          "output_type": "stream",
          "name": "stdout",
          "text": [
            "+--------+-------+--------+------------+---------+-----------------+----------------------+\n",
            "|order_id|user_id|eval_set|order_number|order_dow|order_hour_of_day|days_since_prior_order|\n",
            "+--------+-------+--------+------------+---------+-----------------+----------------------+\n",
            "|       0|      0|       0|           0|        0|                0|                 20582|\n",
            "+--------+-------+--------+------------+---------+-----------------+----------------------+\n",
            "\n",
            "+--------+----------+-----------------+---------+\n",
            "|order_id|product_id|add_to_cart_order|reordered|\n",
            "+--------+----------+-----------------+---------+\n",
            "|       0|         0|                0|        0|\n",
            "+--------+----------+-----------------+---------+\n",
            "\n",
            "+----------+------------+--------+-------------+\n",
            "|product_id|product_name|aisle_id|department_id|\n",
            "+----------+------------+--------+-------------+\n",
            "|         0|           0|       0|            0|\n",
            "+----------+------------+--------+-------------+\n",
            "\n"
          ]
        }
      ],
      "source": [
        "from pyspark.sql.functions import col, sum\n",
        "\n",
        "# Function to check missing values in a DataFrame\n",
        "def check_missing_values(df):\n",
        "    return df.select([sum(col(c).isNull().cast(\"int\")).alias(c) for c in df.columns]).show()\n",
        "\n",
        "# Check missing values\n",
        "check_missing_values(orders_df)\n",
        "check_missing_values(order_products_df)\n",
        "check_missing_values(products_df)\n"
      ]
    },
    {
      "cell_type": "code",
      "execution_count": 9,
      "metadata": {
        "colab": {
          "base_uri": "https://localhost:8080/"
        },
        "id": "ys-iZQptLPlm",
        "outputId": "742ffe19-60bf-4e58-9992-7b79fc7b10a3"
      },
      "outputs": [
        {
          "output_type": "execute_result",
          "data": {
            "text/plain": [
              "49688"
            ]
          },
          "metadata": {},
          "execution_count": 9
        }
      ],
      "source": [
        "products_df.select(\"product_id\").distinct().count()\n"
      ]
    },
    {
      "cell_type": "code",
      "execution_count": 10,
      "metadata": {
        "colab": {
          "base_uri": "https://localhost:8080/"
        },
        "id": "LhgE4O1PLPpC",
        "outputId": "79608a29-c5c6-4890-ea6b-d5eeb115664e"
      },
      "outputs": [
        {
          "output_type": "stream",
          "name": "stdout",
          "text": [
            "+----------+-----+\n",
            "|product_id|count|\n",
            "+----------+-----+\n",
            "|     24852|11625|\n",
            "|     13176| 9371|\n",
            "|     21137| 6443|\n",
            "|     21903| 5895|\n",
            "|     47209| 5237|\n",
            "|     47766| 4250|\n",
            "|     47626| 3715|\n",
            "|     16797| 3444|\n",
            "|     26209| 3388|\n",
            "|     27966| 3335|\n",
            "+----------+-----+\n",
            "only showing top 10 rows\n",
            "\n"
          ]
        }
      ],
      "source": [
        "from pyspark.sql.functions import desc\n",
        "\n",
        "order_products_df.groupBy(\"product_id\").count().orderBy(desc(\"count\")).show(10)\n"
      ]
    },
    {
      "cell_type": "code",
      "execution_count": 11,
      "metadata": {
        "colab": {
          "base_uri": "https://localhost:8080/"
        },
        "id": "aPL4OWWBD9ZC",
        "outputId": "4094617a-a181-4ff1-d6f9-7496e61a372e"
      },
      "outputs": [
        {
          "output_type": "stream",
          "name": "stdout",
          "text": [
            "+-----------------+-----+\n",
            "|order_hour_of_day|count|\n",
            "+-----------------+-----+\n",
            "|                0| 2085|\n",
            "|                1| 1190|\n",
            "|                2|  699|\n",
            "|                3|  527|\n",
            "|                4|  584|\n",
            "|                5|  963|\n",
            "|                6| 3027|\n",
            "|                7| 9211|\n",
            "|                8|17759|\n",
            "|                9|25458|\n",
            "|               10|28358|\n",
            "|               11|28248|\n",
            "|               12|27523|\n",
            "|               13|27769|\n",
            "|               14|27923|\n",
            "|               15|28188|\n",
            "|               16|27148|\n",
            "|               17|22946|\n",
            "|               18|18277|\n",
            "|               19|14051|\n",
            "+-----------------+-----+\n",
            "only showing top 20 rows\n",
            "\n"
          ]
        }
      ],
      "source": [
        "orders_df.groupBy(\"order_hour_of_day\").count().orderBy(\"order_hour_of_day\").show()\n"
      ]
    },
    {
      "cell_type": "code",
      "execution_count": 12,
      "metadata": {
        "colab": {
          "base_uri": "https://localhost:8080/"
        },
        "id": "_hBOveOhLvAI",
        "outputId": "57edf58d-bc89-40ba-d48a-b566be19f931"
      },
      "outputs": [
        {
          "output_type": "stream",
          "name": "stdout",
          "text": [
            "+-----------------------+\n",
            "|avg_days_between_orders|\n",
            "+-----------------------+\n",
            "|      11.11648031570046|\n",
            "+-----------------------+\n",
            "\n"
          ]
        }
      ],
      "source": [
        "orders_df.selectExpr(\"avg(days_since_prior_order) as avg_days_between_orders\").show()\n"
      ]
    },
    {
      "cell_type": "code",
      "execution_count": 13,
      "metadata": {
        "colab": {
          "base_uri": "https://localhost:8080/"
        },
        "id": "br_zGbUnLu8w",
        "outputId": "d7a76d0d-0552-4e51-fad7-04614007670d"
      },
      "outputs": [
        {
          "output_type": "stream",
          "name": "stdout",
          "text": [
            "+--------------------+-----+\n",
            "|               aisle|count|\n",
            "+--------------------+-----+\n",
            "|        fresh fruits|88652|\n",
            "|    fresh vegetables|82596|\n",
            "|packaged vegetabl...|42913|\n",
            "|              yogurt|35247|\n",
            "|     packaged cheese|23711|\n",
            "|                milk|21639|\n",
            "|water seltzer spa...|20181|\n",
            "|      chips pretzels|17441|\n",
            "|     soy lactosefree|15724|\n",
            "|               bread|14303|\n",
            "+--------------------+-----+\n",
            "only showing top 10 rows\n",
            "\n"
          ]
        }
      ],
      "source": [
        "order_products_df.join(products_df, \"product_id\") \\\n",
        "    .join(aisles_df, \"aisle_id\") \\\n",
        "    .groupBy(\"aisle\").count().orderBy(desc(\"count\")).show(10)\n"
      ]
    },
    {
      "cell_type": "code",
      "execution_count": 14,
      "metadata": {
        "colab": {
          "base_uri": "https://localhost:8080/"
        },
        "id": "uF_UVXCDLu6v",
        "outputId": "a18ae376-ff9f-40be-db5b-a6e432e1bc12"
      },
      "outputs": [
        {
          "output_type": "stream",
          "name": "stdout",
          "text": [
            "+-------+-----+\n",
            "|user_id|count|\n",
            "+-------+-----+\n",
            "|   8664|  100|\n",
            "|  10502|  100|\n",
            "|   3377|  100|\n",
            "|   8086|  100|\n",
            "|   2387|  100|\n",
            "|   8085|  100|\n",
            "|   2231|  100|\n",
            "|  10293|  100|\n",
            "|   7120|  100|\n",
            "|  14437|  100|\n",
            "+-------+-----+\n",
            "only showing top 10 rows\n",
            "\n"
          ]
        }
      ],
      "source": [
        "orders_df.groupBy(\"user_id\").count().orderBy(desc(\"count\")).show(10)\n"
      ]
    },
    {
      "cell_type": "code",
      "execution_count": 15,
      "metadata": {
        "colab": {
          "base_uri": "https://localhost:8080/",
          "height": 487
        },
        "id": "9CQJZ1sZLu4n",
        "outputId": "ba4b7524-17d4-490d-ded8-46e8a942ddb9"
      },
      "outputs": [
        {
          "output_type": "display_data",
          "data": {
            "text/plain": [
              "<Figure size 800x500 with 1 Axes>"
            ],
            "image/png": "[encoded data removed]"
          },
          "metadata": {}
        }
      ],
      "source": [
        "import pandas as pd\n",
        "import matplotlib.pyplot as plt\n",
        "\n",
        "# Convert Spark DataFrame to Pandas\n",
        "pdf = orders_df.select(\"order_hour_of_day\").toPandas()\n",
        "\n",
        "# Box Plot for Order Time Distribution\n",
        "plt.figure(figsize=(8, 5))\n",
        "plt.boxplot(pdf[\"order_hour_of_day\"])\n",
        "plt.xlabel(\"Order Hour of the Day\")\n",
        "plt.ylabel(\"Distribution\")\n",
        "plt.title(\"Box Plot of Order Hour of the Day\")\n",
        "plt.show()\n"
      ]
    },
    {
      "cell_type": "code",
      "execution_count": 16,
      "metadata": {
        "id": "UbJLLssfMfwb"
      },
      "outputs": [],
      "source": [
        "from pyspark.sql import SparkSession\n",
        "from pyspark.sql.functions import col, count, expr\n",
        "from pyspark.ml.fpm import FPGrowth\n",
        "from pyspark.ml.recommendation import ALS\n"
      ]
    },
    {
      "cell_type": "code",
      "execution_count": 17,
      "metadata": {
        "colab": {
          "base_uri": "https://localhost:8080/"
        },
        "id": "4GRYr3fMMfy0",
        "outputId": "50f10731-276f-447a-eaa5-5a9555978e64"
      },
      "outputs": [
        {
          "output_type": "stream",
          "name": "stdout",
          "text": [
            "+--------+----------------------------------------------------------------------------------------------------------------------------------------------------------------------------------+\n",
            "|order_id|items                                                                                                                                                                             |\n",
            "+--------+----------------------------------------------------------------------------------------------------------------------------------------------------------------------------------+\n",
            "|3       |[33754, 24838, 17704, 21903, 17668, 46667, 17461, 32665]                                                                                                                          |\n",
            "|5       |[13176, 15005, 47329, 27966, 23909, 48370, 13245, 9633, 27360, 6348, 40878, 6184, 48002, 20914, 37011, 12962, 45698, 24773, 18569, 41176, 48366, 47209, 46522, 38693, 48825, 8479]|\n",
            "|6       |[40462, 15873, 41897]                                                                                                                                                             |\n",
            "|9       |[21405, 47890, 11182, 2014, 29193, 34203, 14992, 31506, 23288, 44533, 18362, 27366, 432, 3990, 14183]                                                                             |\n",
            "|12      |[30597, 15221, 43772, 37886, 37215, 34335, 3164, 26910, 38888, 38050, 25213, 11175, 23390, 29471, 43511]                                                                          |\n",
            "+--------+----------------------------------------------------------------------------------------------------------------------------------------------------------------------------------+\n",
            "only showing top 5 rows\n",
            "\n"
          ]
        }
      ],
      "source": [
        "# Load dataset\n",
        "order_products_df = spark.read.csv(\"order_products__prior.csv\", header=True, inferSchema=True)\n",
        "\n",
        "# Group transactions by order_id to get product lists\n",
        "basket_df = order_products_df.groupBy(\"order_id\") \\\n",
        "    .agg(expr(\"collect_list(product_id) as items\"))\n",
        "\n",
        "basket_df.show(5, truncate=False)\n"
      ]
    },
    {
      "cell_type": "code",
      "execution_count": 18,
      "metadata": {
        "colab": {
          "base_uri": "https://localhost:8080/"
        },
        "id": "P3hT-KUBMf1S",
        "outputId": "5c130e9f-3e50-4caa-857b-7a3ceb9bebb7"
      },
      "outputs": [
        {
          "output_type": "stream",
          "name": "stdout",
          "text": [
            "+-------+----+\n",
            "|items  |freq|\n",
            "+-------+----+\n",
            "|[34358]|1357|\n",
            "|[19678]|1214|\n",
            "|[4799] |1394|\n",
            "|[19660]|2086|\n",
            "|[27521]|1618|\n",
            "|[27104]|2674|\n",
            "|[5450] |1825|\n",
            "|[9076] |2196|\n",
            "|[26209]|5296|\n",
            "|[19057]|2825|\n",
            "+-------+----+\n",
            "only showing top 10 rows\n",
            "\n",
            "+----------+----------+-------------------+------------------+--------------------+\n",
            "|antecedent|consequent|confidence         |lift              |support             |\n",
            "+----------+----------+-------------------+------------------+--------------------+\n",
            "|[27966]   |[13176]   |0.3004484304932735 |2.512623151568024 |0.012693993212296946|\n",
            "|[47766]   |[24852]   |0.30438784903344585|2.0604141474999547|0.01634320735444331 |\n",
            "|[28204]   |[24852]   |0.37849079025549615|2.5620200721454336|0.010494579722560874|\n",
            "+----------+----------+-------------------+------------------+--------------------+\n",
            "\n"
          ]
        }
      ],
      "source": [
        "# Apply FPGrowth Model\n",
        "fp_growth = FPGrowth(itemsCol=\"items\", minSupport=0.01, minConfidence=0.3)\n",
        "model = fp_growth.fit(basket_df)\n",
        "\n",
        "# Display Frequent Itemsets (Most Commonly Bought Together Products)\n",
        "model.freqItemsets.show(10, truncate=False)\n",
        "\n",
        "# Display Association Rules (If you buy X, then Y is also bought)\n",
        "model.associationRules.show(10, truncate=False)\n"
      ]
    },
    {
      "cell_type": "code",
      "execution_count": 19,
      "metadata": {
        "colab": {
          "base_uri": "https://localhost:8080/"
        },
        "id": "SXk8OODXMf4H",
        "outputId": "f5c0efa6-e6ee-46e7-d696-f1c81103b403"
      },
      "outputs": [
        {
          "output_type": "stream",
          "name": "stdout",
          "text": [
            "+-------+----------+------+\n",
            "|user_id|product_id|rating|\n",
            "+-------+----------+------+\n",
            "|  22352|     15873|     1|\n",
            "|   5430|     15424|     1|\n",
            "|  40286|     23001|     1|\n",
            "|   4076|     47049|     2|\n",
            "|  46527|     24497|     1|\n",
            "+-------+----------+------+\n",
            "only showing top 5 rows\n",
            "\n"
          ]
        }
      ],
      "source": [
        "# Load order data\n",
        "orders_df = spark.read.csv(\"orders.csv\", header=True, inferSchema=True)\n",
        "\n",
        "# Merge order and product data to create user-item interactions\n",
        "user_item_df = order_products_df.join(orders_df, \"order_id\") \\\n",
        "    .select(\"user_id\", \"product_id\")\n",
        "\n",
        "# Assign implicit ratings (Count how often each user orders a product)\n",
        "user_ratings_df = user_item_df.groupBy(\"user_id\", \"product_id\") \\\n",
        "    .agg(count(\"*\").alias(\"rating\"))\n",
        "\n",
        "user_ratings_df.show(5)\n"
      ]
    },
    {
      "cell_type": "code",
      "execution_count": 20,
      "metadata": {
        "colab": {
          "base_uri": "https://localhost:8080/"
        },
        "id": "ZRzGNpW0ShBK",
        "outputId": "f0d446e7-d42c-4daf-8cbc-eb7e680303e7"
      },
      "outputs": [
        {
          "output_type": "stream",
          "name": "stdout",
          "text": [
            "+-------+----------+------+\n",
            "|user_id|product_id|rating|\n",
            "+-------+----------+------+\n",
            "|  22352|     15873|     1|\n",
            "|   5430|     15424|     3|\n",
            "|  40286|     23001|     1|\n",
            "|   4076|     47049|     2|\n",
            "|  46527|     24497|     1|\n",
            "+-------+----------+------+\n",
            "only showing top 5 rows\n",
            "\n"
          ]
        }
      ],
      "source": [
        "from pyspark.sql import SparkSession\n",
        "from pyspark.sql.functions import col, count, expr\n",
        "from pyspark.ml.fpm import FPGrowth\n",
        "from pyspark.ml.recommendation import ALS\n",
        "\n",
        "# Load order data\n",
        "orders_df = spark.read.csv(\"orders.csv\", header=True, inferSchema=True)\n",
        "\n",
        "# Load dataset\n",
        "order_products_df = spark.read.csv(\"order_products__prior.csv\", header=True, inferSchema=True)\n",
        "\n",
        "# Merge order and product data to create user-item interactions\n",
        "user_item_df = order_products_df.join(orders_df, \"order_id\") \\\n",
        "    .select(\"user_id\", \"product_id\")\n",
        "\n",
        "# Filter out rows with null product_id before grouping and calculating ratings\n",
        "user_item_df = user_item_df.filter(col(\"product_id\").isNotNull())\n",
        "\n",
        "# Assign implicit ratings (Count how often each user orders a product)\n",
        "user_ratings_df = user_item_df.groupBy(\"user_id\", \"product_id\") \\\n",
        "    .agg(count(\"*\").alias(\"rating\"))\n",
        "\n",
        "user_ratings_df.show(5)\n",
        "\n",
        "als = ALS(userCol=\"user_id\", itemCol=\"product_id\", ratingCol=\"rating\",\n",
        "          coldStartStrategy=\"drop\", implicitPrefs=True)\n",
        "\n",
        "als_model = als.fit(user_ratings_df)"
      ]
    },
    {
      "cell_type": "code",
      "execution_count": 21,
      "metadata": {
        "colab": {
          "base_uri": "https://localhost:8080/"
        },
        "id": "cZQLI54eMf9N",
        "outputId": "c5c299df-2b99-4e2b-8858-c841a5bfaa20"
      },
      "outputs": [
        {
          "output_type": "stream",
          "name": "stdout",
          "text": [
            "+-------+--------------------------------------------------------------------------------------------------------+\n",
            "|user_id|recommendations                                                                                         |\n",
            "+-------+--------------------------------------------------------------------------------------------------------+\n",
            "|5      |[{16797, 0.23159084}, {4920, 0.16453604}, {40706, 0.14115907}, {27104, 0.13465239}, {45007, 0.13290131}]|\n",
            "|12     |[{13176, 0.57299584}, {21903, 0.43911177}, {49683, 0.32069173}, {42265, 0.2649871}, {30489, 0.25586066}]|\n",
            "|13     |[{27086, 0.15644014}, {28204, 0.13849887}, {16797, 0.096922845}, {5785, 0.08753907}, {5876, 0.07721993}]|\n",
            "|15     |[{6184, 0.12421208}, {196, 0.12331775}, {12341, 0.10630153}, {43352, 0.09162545}, {16797, 0.07539251}]  |\n",
            "|19     |[{16797, 0.16479175}, {9076, 0.15122052}, {23909, 0.14855023}, {5077, 0.13489091}, {29487, 0.11024181}] |\n",
            "+-------+--------------------------------------------------------------------------------------------------------+\n",
            "only showing top 5 rows\n",
            "\n"
          ]
        }
      ],
      "source": [
        "# Generate top 5 product recommendations for each user\n",
        "user_recommendations = als_model.recommendForAllUsers(5)\n",
        "user_recommendations.show(5, truncate=False)\n"
      ]
    },
    {
      "cell_type": "code",
      "execution_count": 22,
      "metadata": {
        "id": "6d6gFsM8Mf_k"
      },
      "outputs": [],
      "source": [
        "import pandas as pd\n",
        "import matplotlib.pyplot as plt\n",
        "import seaborn as sns\n",
        "\n",
        "# Convert frequent itemsets from FP-Growth to Pandas\n",
        "fp_growth_pd = model.freqItemsets.toPandas()\n",
        "\n",
        "# Convert association rules from FP-Growth to Pandas\n",
        "association_rules_pd = model.associationRules.toPandas()\n",
        "\n",
        "# Convert ALS recommendations to Pandas\n",
        "user_recommendations_pd = user_recommendations.toPandas()\n"
      ]
    },
    {
      "cell_type": "code",
      "execution_count": 23,
      "metadata": {
        "colab": {
          "base_uri": "https://localhost:8080/",
          "height": 489
        },
        "id": "3F9rCQHxMgCc",
        "outputId": "cac21721-dee7-453c-acc3-1701110a0aa1"
      },
      "outputs": [
        {
          "output_type": "display_data",
          "data": {
            "text/plain": [
              "<Figure size 1200x600 with 0 Axes>"
            ]
          },
          "metadata": {}
        },
        {
          "output_type": "display_data",
          "data": {
            "text/plain": [
              "<Figure size 640x480 with 1 Axes>"
            ],
            "image/png": "[encoded data removed]"
          },
          "metadata": {}
        }
      ],
      "source": [
        "plt.figure(figsize=(12, 6))\n",
        "fp_growth_pd.sort_values(by=\"freq\", ascending=False).head(10).plot(\n",
        "    kind=\"barh\", x=\"items\", y=\"freq\", legend=False, color=\"skyblue\"\n",
        ")\n",
        "\n",
        "plt.xlabel(\"Frequency\")\n",
        "plt.ylabel(\"Itemset (Product Combinations)\")\n",
        "plt.title(\"Top 10 Frequently Bought Product Combinations\")\n",
        "plt.gca().invert_yaxis()\n",
        "plt.show()\n"
      ]
    },
    {
      "cell_type": "code",
      "execution_count": 24,
      "metadata": {
        "colab": {
          "base_uri": "https://localhost:8080/",
          "height": 564
        },
        "id": "3JRLNZctNGAq",
        "outputId": "a8d62a8a-f807-447a-964f-58da370464ea"
      },
      "outputs": [
        {
          "output_type": "display_data",
          "data": {
            "text/plain": [
              "<Figure size 1000x600 with 2 Axes>"
            ],
            "image/png": "[encoded data removed]"
          },
          "metadata": {}
        }
      ],
      "source": [
        "plt.figure(figsize=(10, 6))\n",
        "\n",
        "# Ensure the 'antecedent' and 'consequent' columns are in string format\n",
        "association_rules_pd[\"antecedent\"] = association_rules_pd[\"antecedent\"].astype(str)\n",
        "association_rules_pd[\"consequent\"] = association_rules_pd[\"consequent\"].astype(str)\n",
        "\n",
        "# Reshape the data correctly using pivot_table\n",
        "pivot_table = association_rules_pd.pivot_table(index=\"antecedent\", columns=\"consequent\", values=\"confidence\")\n",
        "\n",
        "# Plot heatmap\n",
        "sns.heatmap(pivot_table, cmap=\"Blues\", annot=True, fmt=\".2f\")\n",
        "\n",
        "plt.xlabel(\"Consequent (Recommended Product)\")\n",
        "plt.ylabel(\"Antecedent (Purchased Product)\")\n",
        "plt.title(\"Association Rules - Confidence Scores\")\n",
        "plt.show()\n"
      ]
    },
    {
      "cell_type": "code",
      "execution_count": 25,
      "metadata": {
        "colab": {
          "base_uri": "https://localhost:8080/",
          "height": 574
        },
        "id": "fRgw51vsNGDF",
        "outputId": "0c94ae62-33a1-4465-f276-2cefd1159501"
      },
      "outputs": [
        {
          "output_type": "stream",
          "name": "stderr",
          "text": [
            "<ipython-input-25-b1ec6fcce12b>:8: FutureWarning: \n",
            "\n",
            "Passing `palette` without assigning `hue` is deprecated and will be removed in v0.14.0. Assign the `x` variable to `hue` and set `legend=False` for the same effect.\n",
            "\n",
            "  sns.barplot(x=recommended_products, y=range(len(recommended_products)), palette=\"viridis\")\n"
          ]
        },
        {
          "output_type": "display_data",
          "data": {
            "text/plain": [
              "<Figure size 800x500 with 1 Axes>"
            ],
            "image/png": "[encoded data removed]"
          },
          "metadata": {}
        }
      ],
      "source": [
        "# Extract a sample user’s recommendations\n",
        "sample_user = user_recommendations_pd.iloc[0]\n",
        "user_id = sample_user[\"user_id\"]\n",
        "recommended_products = [row.product_id for row in sample_user[\"recommendations\"]]\n",
        "\n",
        "# Plot Recommended Products for a Sample User\n",
        "plt.figure(figsize=(8, 5))\n",
        "sns.barplot(x=recommended_products, y=range(len(recommended_products)), palette=\"viridis\")\n",
        "plt.xlabel(\"Product ID\")\n",
        "plt.ylabel(\"Recommendation Rank\")\n",
        "plt.title(f\"Top 5 Product Recommendations for User {user_id}\")\n",
        "plt.show()\n"
      ]
    },
    {
      "cell_type": "code",
      "execution_count": 25,
      "metadata": {
        "id": "E-BP95WoNGFX"
      },
      "outputs": [],
      "source": []
    },
    {
      "cell_type": "code",
      "execution_count": 25,
      "metadata": {
        "id": "ITxkRs6sNGHm"
      },
      "outputs": [],
      "source": []
    }
  ],
  "metadata": {
    "colab": {
      "provenance": [],
      "authorship_tag": "ABX9TyMO9uMSTnXd4BM7mCr0WQnk",
      "include_colab_link": true
    },
    "kernelspec": {
      "display_name": "Python 3",
      "name": "python3"
    },
    "language_info": {
      "name": "python"
    }
  },
  "nbformat": 4,
  "nbformat_minor": 0
}